{
 "cells": [
  {
   "cell_type": "code",
   "execution_count": 1,
   "metadata": {},
   "outputs": [
    {
     "name": "stdout",
     "output_type": "stream",
     "text": [
      "Collecting PyPDF2\n",
      "  Downloading PyPDF2-1.26.0.tar.gz (77 kB)\n",
      "Building wheels for collected packages: PyPDF2\n",
      "  Building wheel for PyPDF2 (setup.py): started\n",
      "  Building wheel for PyPDF2 (setup.py): finished with status 'done'\n",
      "  Created wheel for PyPDF2: filename=PyPDF2-1.26.0-py3-none-any.whl size=61087 sha256=15fbe758ca981fac8b2168d8445b3fc59f1668cb81900c1308b654a9b2a80faf\n",
      "  Stored in directory: c:\\users\\akhilreddy\\appdata\\local\\pip\\cache\\wheels\\b1\\1a\\8f\\a4c34be976825a2f7948d0fa40907598d69834f8ab5889de11\n",
      "Successfully built PyPDF2\n",
      "Installing collected packages: PyPDF2\n",
      "Successfully installed PyPDF2-1.26.0\n"
     ]
    }
   ],
   "source": [
    "#!pip install PyPDF2"
   ]
  },
  {
   "cell_type": "code",
   "execution_count": 2,
   "metadata": {},
   "outputs": [
    {
     "name": "stdout",
     "output_type": "stream",
     "text": [
      " No. Of Pages : 229\n",
      "Recognizing the \n",
      "so˜ware and service \n",
      "organizations \n",
      "\n",
      "that excelled in \n",
      "\n",
      "helping healthcare \n",
      "\n",
      "professionals deliver \n",
      "\n",
      "better patient care\n",
      "\n"
     ]
    }
   ],
   "source": [
    "import PyPDF2\n",
    " \n",
    "pdfFileObject = open(\"./KLAS-report-best-in-klas-2021-full.pdf\", 'rb')\n",
    " \n",
    "pdfReader = PyPDF2.PdfFileReader(pdfFileObject)\n",
    " \n",
    "print(\" No. Of Pages :\", pdfReader.numPages)\n",
    " \n",
    "pageObject = pdfReader.getPage()\n",
    " \n",
    "print(pageObject.extractText())\n",
    " \n",
    "pdfFileObject.close()"
   ]
  },
  {
   "cell_type": "code",
   "execution_count": 1,
   "metadata": {},
   "outputs": [],
   "source": [
    "import PyPDF2\n",
    "with open('./emerging-hcit-companies-2019-brief.pdf','rb') as pdf_file, open('./emerging-hcit-companies-2019-brief.txt', 'w', encoding='utf-8') as text_file:\n",
    "    read_pdf = PyPDF2.PdfFileReader(pdf_file)\n",
    "    number_of_pages = read_pdf.getNumPages()\n",
    "    for page_number in range(number_of_pages):   # use xrange in Py2\n",
    "        page = read_pdf.getPage(page_number)\n",
    "        page_content = page.extractText()\n",
    "        text_file.write(page_content)"
   ]
  },
  {
   "cell_type": "code",
   "execution_count": null,
   "metadata": {},
   "outputs": [],
   "source": []
  }
 ],
 "metadata": {
  "kernelspec": {
   "display_name": "Python 3",
   "language": "python",
   "name": "python3"
  },
  "language_info": {
   "codemirror_mode": {
    "name": "ipython",
    "version": 3
   },
   "file_extension": ".py",
   "mimetype": "text/x-python",
   "name": "python",
   "nbconvert_exporter": "python",
   "pygments_lexer": "ipython3",
   "version": "3.8.5"
  }
 },
 "nbformat": 4,
 "nbformat_minor": 4
}
